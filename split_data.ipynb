{
 "cells": [
  {
   "cell_type": "code",
   "execution_count": 9,
   "id": "78490af4-b570-4c30-b95a-03051d1a6398",
   "metadata": {},
   "outputs": [],
   "source": [
    "import os\n",
    "import shutil\n",
    "from sklearn.model_selection import train_test_split"
   ]
  },
  {
   "cell_type": "code",
   "execution_count": 15,
   "id": "6b024fd4-c21e-4828-bcaf-9dc7ffcd120b",
   "metadata": {},
   "outputs": [],
   "source": [
    "path_dir = r'C:\\Users\\Latitude 5480\\Documents\\PROGRAM\\data\\raw'\n",
    "split_dir = r'C:\\Users\\Latitude 5480\\Documents\\PROGRAM\\data\\split'"
   ]
  },
  {
   "cell_type": "code",
   "execution_count": 16,
   "id": "805bb270-c3fd-44a2-85af-b01ff0c14d63",
   "metadata": {},
   "outputs": [],
   "source": [
    "train_dir = os.path.join(split_dir, \"train\")\n",
    "valid_dir = os.path.join(split_dir, \"val\")\n",
    "test_dir  = os.path.join(split_dir, \"test\")\n",
    "\n",
    "os.makedirs(train_dir, exist_ok=True)\n",
    "os.makedirs(valid_dir, exist_ok=True)\n",
    "os.makedirs(test_dir, exist_ok=True)"
   ]
  },
  {
   "cell_type": "code",
   "execution_count": 19,
   "id": "b4e05d93-eb65-48d3-ae1f-f05d9a46d70b",
   "metadata": {},
   "outputs": [
    {
     "name": "stdout",
     "output_type": "stream",
     "text": [
      "Folder ditemukan:\n",
      " - SBW_B (200 file)\n",
      " - SBW_K (200 file)\n",
      " - SBW_SB (200 file)\n",
      " - SBW_SK (200 file)\n"
     ]
    }
   ],
   "source": [
    "categories = [d for d in os.listdir(path_dir) if os.path.isdir(os.path.join(path_dir, d))]\n",
    "\n",
    "print(\"Folder ditemukan:\")\n",
    "for d in categories:\n",
    "    print(f\" - {d} ({len(os.listdir(os.path.join(path_dir, d)))} file)\")"
   ]
  },
  {
   "cell_type": "code",
   "execution_count": 20,
   "id": "9b8b2944-cc91-4935-bc35-c0e84b87881f",
   "metadata": {},
   "outputs": [
    {
     "name": "stdout",
     "output_type": "stream",
     "text": [
      "Train → 140 file disalin ke: C:\\Users\\Latitude 5480\\Documents\\PROGRAM\\data\\split\\train\\SBW_B\n",
      "Val → 40 file disalin ke: C:\\Users\\Latitude 5480\\Documents\\PROGRAM\\data\\split\\val\\SBW_B\n",
      "Test → 20 file disalin ke: C:\\Users\\Latitude 5480\\Documents\\PROGRAM\\data\\split\\test\\SBW_B\n",
      "Split selesai untuk kategori 'SBW_B'\n",
      "\n",
      "Train → 140 file disalin ke: C:\\Users\\Latitude 5480\\Documents\\PROGRAM\\data\\split\\train\\SBW_K\n",
      "Val → 40 file disalin ke: C:\\Users\\Latitude 5480\\Documents\\PROGRAM\\data\\split\\val\\SBW_K\n",
      "Test → 20 file disalin ke: C:\\Users\\Latitude 5480\\Documents\\PROGRAM\\data\\split\\test\\SBW_K\n",
      "Split selesai untuk kategori 'SBW_K'\n",
      "\n",
      "Train → 140 file disalin ke: C:\\Users\\Latitude 5480\\Documents\\PROGRAM\\data\\split\\train\\SBW_SB\n",
      "Val → 40 file disalin ke: C:\\Users\\Latitude 5480\\Documents\\PROGRAM\\data\\split\\val\\SBW_SB\n",
      "Test → 20 file disalin ke: C:\\Users\\Latitude 5480\\Documents\\PROGRAM\\data\\split\\test\\SBW_SB\n",
      "Split selesai untuk kategori 'SBW_SB'\n",
      "\n",
      "Train → 140 file disalin ke: C:\\Users\\Latitude 5480\\Documents\\PROGRAM\\data\\split\\train\\SBW_SK\n",
      "Val → 40 file disalin ke: C:\\Users\\Latitude 5480\\Documents\\PROGRAM\\data\\split\\val\\SBW_SK\n",
      "Test → 20 file disalin ke: C:\\Users\\Latitude 5480\\Documents\\PROGRAM\\data\\split\\test\\SBW_SK\n",
      "Split selesai untuk kategori 'SBW_SK'\n",
      "\n"
     ]
    }
   ],
   "source": [
    "for category in categories:\n",
    "    category_path = os.path.join(path_dir, category)\n",
    "    images = [f for f in os.listdir(category_path) if os.path.isfile(os.path.join(category_path, f))]\n",
    "\n",
    "    if len(images) < 3:\n",
    "        print(f\"Skipping '{category}' karena hanya ada {len(images)} gambar.\")\n",
    "        continue\n",
    "\n",
    "    # Split data: 70% train, 20% val, 10% test\n",
    "    train_imgs, temp_imgs = train_test_split(images, test_size=0.3, random_state=42)\n",
    "    val_imgs, test_imgs = train_test_split(temp_imgs, test_size=0.333, random_state=42)\n",
    "\n",
    "    for base_dir, img_list, split_name in zip(\n",
    "        [train_dir, valid_dir, test_dir],\n",
    "        [train_imgs, val_imgs, test_imgs],\n",
    "        [\"Train\", \"Val\", \"Test\"]\n",
    "    ):\n",
    "        target_dir = os.path.join(base_dir, category)\n",
    "        os.makedirs(target_dir, exist_ok=True)\n",
    "\n",
    "        copied_count = 0\n",
    "        for img_name in img_list:\n",
    "            src = os.path.join(category_path, img_name)\n",
    "            dst = os.path.join(target_dir, img_name)\n",
    "\n",
    "            try:\n",
    "                shutil.copy2(src, dst)  # copy2 menjaga metadata\n",
    "                copied_count += 1\n",
    "            except Exception as e:\n",
    "                print(f\"Gagal menyalin: {src} → {dst}\")\n",
    "                print(f\"Alasan: {e}\")\n",
    "\n",
    "        print(f\"{split_name} → {copied_count} file disalin ke: {target_dir}\")\n",
    "\n",
    "    print(f\"Split selesai untuk kategori '{category}'\\n\")"
   ]
  },
  {
   "cell_type": "code",
   "execution_count": null,
   "id": "6f7d51b3-dfff-4e24-b496-d1bbf52e85ad",
   "metadata": {},
   "outputs": [],
   "source": []
  }
 ],
 "metadata": {
  "kernelspec": {
   "display_name": "Python 3 (ipykernel)",
   "language": "python",
   "name": "python3"
  },
  "language_info": {
   "codemirror_mode": {
    "name": "ipython",
    "version": 3
   },
   "file_extension": ".py",
   "mimetype": "text/x-python",
   "name": "python",
   "nbconvert_exporter": "python",
   "pygments_lexer": "ipython3",
   "version": "3.10.7"
  }
 },
 "nbformat": 4,
 "nbformat_minor": 5
}
